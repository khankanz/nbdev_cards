{
 "cells": [
  {
   "cell_type": "code",
   "execution_count": 1,
   "id": "eff06c1a-12c3-4c1e-a5c5-67c90cb94a6c",
   "metadata": {},
   "outputs": [],
   "source": [
    "#| default_exp card"
   ]
  },
  {
   "cell_type": "markdown",
   "id": "d4afdf25-1f9c-4ce6-be9f-c06b183066e9",
   "metadata": {},
   "source": [
    "# card -- A basic playing card\n",
    "> A simple API for creating and using playing cards"
   ]
  },
  {
   "cell_type": "code",
   "execution_count": 29,
   "id": "c80e274c-78a9-408f-8907-0f67581fc0df",
   "metadata": {},
   "outputs": [],
   "source": [
    "#| hide\n",
    "from nbdev.showdoc import *\n",
    "from fastcore.test import *\n",
    "from fastcore.utils import *"
   ]
  },
  {
   "cell_type": "code",
   "execution_count": 3,
   "id": "781c8b87-9e25-4e2b-ae7b-95028002d28e",
   "metadata": {},
   "outputs": [],
   "source": [
    "#| export\n",
    "suits = [\"🃏\",\"♣️\",\"💎\",\"💛\",\"♠️\"]\n",
    "ranks = [None, \"A\"] + [str(x) for x in range(2,11)] + [\"J\",\"Q\",\"K\"]"
   ]
  },
  {
   "cell_type": "markdown",
   "id": "f9ec5129-527c-40e2-b03f-afe437f7d76c",
   "metadata": {},
   "source": [
    "We will be using numbers to represent playing card clubs and ranks. These are the suits:"
   ]
  },
  {
   "cell_type": "code",
   "execution_count": 4,
   "id": "7f38685e-20f3-4ec2-9991-9b16b50a3aca",
   "metadata": {},
   "outputs": [
    {
     "data": {
      "text/plain": [
       "['🃏', '♣️', '💎', '💛', '♠️']"
      ]
     },
     "execution_count": 4,
     "metadata": {},
     "output_type": "execute_result"
    }
   ],
   "source": [
    "suits"
   ]
  },
  {
   "cell_type": "markdown",
   "id": "3faf74d7-740b-4291-9566-f79c1c40ca0e",
   "metadata": {},
   "source": [
    "For instance the suit at index 0"
   ]
  },
  {
   "cell_type": "code",
   "execution_count": 5,
   "id": "0f0afb69-eaf3-4a1a-9613-d5e54e6e7bba",
   "metadata": {},
   "outputs": [
    {
     "data": {
      "text/plain": [
       "'🃏'"
      ]
     },
     "execution_count": 5,
     "metadata": {},
     "output_type": "execute_result"
    }
   ],
   "source": [
    "suits[0]"
   ]
  },
  {
   "cell_type": "markdown",
   "id": "213ca18f-1a75-4f51-995c-4d7baa113ec6",
   "metadata": {},
   "source": [
    "These are the ranks:"
   ]
  },
  {
   "cell_type": "code",
   "execution_count": 6,
   "id": "4de3693c-17fa-4277-9d75-56f0b946e204",
   "metadata": {},
   "outputs": [
    {
     "data": {
      "text/plain": [
       "[None, 'A', '2', '3', '4', '5', '6', '7', '8', '9', '10', 'J', 'Q', 'K']"
      ]
     },
     "execution_count": 6,
     "metadata": {},
     "output_type": "execute_result"
    }
   ],
   "source": [
    "ranks"
   ]
  },
  {
   "cell_type": "code",
   "execution_count": 7,
   "id": "a62e4a4f-8fc1-43d3-8c0a-d552b0a0eb67",
   "metadata": {},
   "outputs": [
    {
     "data": {
      "text/plain": [
       "'A'"
      ]
     },
     "execution_count": 7,
     "metadata": {},
     "output_type": "execute_result"
    }
   ],
   "source": [
    "ranks[1]"
   ]
  },
  {
   "cell_type": "markdown",
   "id": "810121eb-32b5-4a97-a2ad-5895cdb0d395",
   "metadata": {},
   "source": [
    "For instance the rank at index `1` (note that there isn't a playing card at position `0`, since we want the ranks to match the indicies where possible)"
   ]
  },
  {
   "cell_type": "code",
   "execution_count": 8,
   "id": "159bed14-98e0-4296-98e1-eed4017f74d0",
   "metadata": {},
   "outputs": [],
   "source": [
    "#| export\n",
    "class Card():\n",
    "    \"A playing card\"\n",
    "    def __init__(self, \n",
    "                 suit:int, # An index into `suits` \n",
    "                 rank:int): # An index into `ranks`\n",
    "        self.suit, self.rank = suit, rank\n",
    "    def __str__(self): return f\"{ranks[self.rank]}{suits[self.suit]}\"\n",
    "    __repr__ = __str__"
   ]
  },
  {
   "cell_type": "markdown",
   "id": "8b721ba0-0a9f-4d41-8d2c-b72317bc4da6",
   "metadata": {},
   "source": [
    "Here's an example of creating and displaying a card:\n"
   ]
  },
  {
   "cell_type": "code",
   "execution_count": 9,
   "id": "747e7421-aedb-4377-95f8-e4242792810f",
   "metadata": {},
   "outputs": [
    {
     "name": "stdout",
     "output_type": "stream",
     "text": [
      "3♣️\n"
     ]
    }
   ],
   "source": [
    "c = Card(suit=1, rank=3)\n",
    "c\n",
    "print(c)"
   ]
  },
  {
   "cell_type": "markdown",
   "id": "4d857ac3-7bbf-4512-a04f-251a729fc13b",
   "metadata": {},
   "source": [
    "## Comparison operators\n",
    "Equality, less than, and greater than work on the rank and suit indices:"
   ]
  },
  {
   "cell_type": "code",
   "execution_count": 17,
   "id": "8bf122e0-3a8d-415b-b6fd-3e91153ba571",
   "metadata": {},
   "outputs": [],
   "source": [
    "@patch\n",
    "def __eq__(self:Card, a:Card): return (self.suit, self.rank)==(a.suit,a.rank)"
   ]
  },
  {
   "cell_type": "code",
   "execution_count": 11,
   "id": "f210b254-56e7-4c9f-8e52-01440134b6e0",
   "metadata": {},
   "outputs": [],
   "source": [
    "test_eq(Card(suit=1, rank=3), Card(suit=1, rank=3))\n",
    "test_ne(Card(suit=2, rank=3), Card(suit=1, rank=3))\n",
    "test_ne(Card(suit=1, rank=2), Card(suit=1, rank=3))"
   ]
  },
  {
   "cell_type": "code",
   "execution_count": 18,
   "id": "adf17717-6705-409f-9582-4c386c55774d",
   "metadata": {},
   "outputs": [],
   "source": [
    "@patch\n",
    "def __lt__(self:Card, a:Card): return (self.suit, self.rank)<(a.suit,a.rank)"
   ]
  },
  {
   "cell_type": "code",
   "execution_count": 21,
   "id": "862e0cb6-2236-427d-8fd7-44da6c125de8",
   "metadata": {},
   "outputs": [],
   "source": [
    "assert Card(suit=1, rank=3)<Card(suit=2, rank=3)"
   ]
  },
  {
   "cell_type": "code",
   "execution_count": 22,
   "id": "cc1bd1f0-5671-46c9-a66e-e3a250703e1e",
   "metadata": {},
   "outputs": [],
   "source": [
    "@patch\n",
    "def __gt__(self:Card, a:Card): return (self.suit, self.rank)>(a.suit, a.rank)"
   ]
  },
  {
   "cell_type": "code",
   "execution_count": 15,
   "id": "1a130c97-9b3f-4681-a898-9cea58476747",
   "metadata": {},
   "outputs": [],
   "source": [
    "assert Card(suit=3, rank=3)>Card(suit=2, rank=3)\n",
    "assert not Card(suit=1, rank=3)>Card(suit=2, rank=3)"
   ]
  }
 ],
 "metadata": {
  "kernelspec": {
   "display_name": "Python [conda env:nbdev-py3.10] *",
   "language": "python",
   "name": "conda-env-nbdev-py3.10-py"
  },
  "language_info": {
   "codemirror_mode": {
    "name": "ipython",
    "version": 3
   },
   "file_extension": ".py",
   "mimetype": "text/x-python",
   "name": "python",
   "nbconvert_exporter": "python",
   "pygments_lexer": "ipython3",
   "version": "3.10.13"
  }
 },
 "nbformat": 4,
 "nbformat_minor": 5
}
