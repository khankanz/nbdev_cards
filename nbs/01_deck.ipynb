{
 "cells": [
  {
   "cell_type": "code",
   "execution_count": null,
   "id": "ec068d68-1048-41b1-9966-948c4f13f5d0",
   "metadata": {},
   "outputs": [],
   "source": [
    "#| default_exp deck"
   ]
  },
  {
   "cell_type": "markdown",
   "id": "9062dd8f-3899-4b5b-ac88-9429b454a675",
   "metadata": {},
   "source": [
    "# deck\n",
    "> A deck of playing cards"
   ]
  },
  {
   "cell_type": "code",
   "execution_count": null,
   "id": "f499c51d-07ca-42a8-a307-24e5b7cae279",
   "metadata": {},
   "outputs": [],
   "source": [
    "#| export\n",
    "from nbdev_cards.card import *\n",
    "from fastcore.utils import *\n",
    "import random"
   ]
  },
  {
   "cell_type": "code",
   "execution_count": null,
   "id": "e04d02e2-061c-476a-8d02-c5cf4d4d22e6",
   "metadata": {},
   "outputs": [],
   "source": [
    "#| hide\n",
    "from nbdev.showdoc import *\n",
    "from fastcore.test import *"
   ]
  },
  {
   "cell_type": "code",
   "execution_count": null,
   "id": "bfda43fa-debf-489e-876f-9d4cea625f4f",
   "metadata": {},
   "outputs": [],
   "source": [
    "#| export\n",
    "class Deck:\n",
    "    \"A deck of 52 cards, not including jokers\"\n",
    "    def __init__(self): self.cards = [Card(s,r) for s in range(4) for r in range(1,14)]\n",
    "    def __len__(self): return len(self.cards)\n",
    "    def __str__(self): return '; '.join(map(str,self.cards))\n",
    "    def __contains__(self, card): return card in self.cards\n",
    "    def shuffle(self):\n",
    "        \"Shuffles the cards in this deck\"\n",
    "        random.shuffle(self.cards)\n",
    "    __repr__=__str__"
   ]
  },
  {
   "cell_type": "markdown",
   "id": "ac64073c-0efd-431f-b693-3d55d1405c82",
   "metadata": {},
   "source": [
    "When we initially create a deck, all of our cards will be present:"
   ]
  },
  {
   "cell_type": "code",
   "execution_count": null,
   "id": "d5c284fd-ea42-40d5-bfd9-a064956f4e1d",
   "metadata": {},
   "outputs": [
    {
     "data": {
      "text/plain": [
       "A🃏; 2🃏; 3🃏; 4🃏; 5🃏; 6🃏; 7🃏; 8🃏; 9🃏; 10🃏; J🃏; Q🃏; K🃏; A♣️; 2♣️; 3♣️; 4♣️; 5♣️; 6♣️; 7♣️; 8♣️; 9♣️; 10♣️; J♣️; Q♣️; K♣️; A💎; 2💎; 3💎; 4💎; 5💎; 6💎; 7💎; 8💎; 9💎; 10💎; J💎; Q💎; K💎; A💛; 2💛; 3💛; 4💛; 5💛; 6💛; 7💛; 8💛; 9💛; 10💛; J💛; Q💛; K💛"
      ]
     },
     "execution_count": null,
     "metadata": {},
     "output_type": "execute_result"
    }
   ],
   "source": [
    "Deck()"
   ]
  },
  {
   "cell_type": "markdown",
   "id": "e109c5b1-035d-4970-9be9-a473a8258b8c",
   "metadata": {},
   "source": [
    "That should be 52 cards."
   ]
  },
  {
   "cell_type": "code",
   "execution_count": null,
   "id": "a95e6a58-3251-4234-80cc-2b0c9a7a5db3",
   "metadata": {},
   "outputs": [],
   "source": [
    "deck = Deck()\n",
    "test_eq(len(deck), 52)"
   ]
  },
  {
   "cell_type": "markdown",
   "id": "3f47dfd9-35ba-40bc-8688-77677d7a9640",
   "metadata": {},
   "source": [
    "As a reminder, these are the suits we defined for a `Card`"
   ]
  },
  {
   "cell_type": "code",
   "execution_count": null,
   "id": "307d1c8a-68ea-423b-bffa-1f0ff2192555",
   "metadata": {},
   "outputs": [
    {
     "data": {
      "text/plain": [
       "A🃏; 2🃏; 3🃏; 4🃏; 5🃏; 6🃏; 7🃏; 8🃏; 9🃏; 10🃏; J🃏; Q🃏; K🃏; A♣️; 2♣️; 3♣️; 4♣️; 5♣️; 6♣️; 7♣️; 8♣️; 9♣️; 10♣️; J♣️; Q♣️; K♣️; A💎; 2💎; 3💎; 4💎; 5💎; 6💎; 7💎; 8💎; 9💎; 10💎; J💎; Q💎; K💎; A💛; 2💛; 3💛; 4💛; 5💛; 6💛; 7💛; 8💛; 9💛; 10💛; J💛; Q💛; K💛"
      ]
     },
     "execution_count": null,
     "metadata": {},
     "output_type": "execute_result"
    }
   ],
   "source": [
    "deck = Deck()\n",
    "deck"
   ]
  },
  {
   "cell_type": "code",
   "execution_count": null,
   "id": "b52882b6-ef31-4d08-a8f9-b513ee731041",
   "metadata": {},
   "outputs": [
    {
     "data": {
      "text/plain": [
       "52"
      ]
     },
     "execution_count": null,
     "metadata": {},
     "output_type": "execute_result"
    }
   ],
   "source": [
    "len(deck)"
   ]
  },
  {
   "cell_type": "code",
   "execution_count": null,
   "id": "a544177f-fc87-4e32-ade0-2cc8c75853b5",
   "metadata": {},
   "outputs": [
    {
     "data": {
      "text/plain": [
       "['🃏', '♣️', '💎', '💛', '♠️']"
      ]
     },
     "execution_count": null,
     "metadata": {},
     "output_type": "execute_result"
    }
   ],
   "source": [
    "suits"
   ]
  },
  {
   "cell_type": "markdown",
   "id": "88790482-4ad9-4250-b023-ad75b357d528",
   "metadata": {},
   "source": [
    "We can check if, say, the Ace of Clubs is in the deck:"
   ]
  },
  {
   "cell_type": "code",
   "execution_count": null,
   "id": "bae6f768-5e5d-4ddc-a520-037f557c7469",
   "metadata": {},
   "outputs": [
    {
     "data": {
      "text/plain": [
       "True"
      ]
     },
     "execution_count": null,
     "metadata": {},
     "output_type": "execute_result"
    }
   ],
   "source": [
    "Card(1,1) in deck"
   ]
  },
  {
   "cell_type": "code",
   "execution_count": null,
   "id": "5ccc67e9-7595-42f0-8290-b961db2ba9f4",
   "metadata": {},
   "outputs": [],
   "source": [
    "#| export\n",
    "@patch\n",
    "def pop(self:Deck, \n",
    "        idx:int=-1): # The index of the card to remove, defaulting to the last one\n",
    "    \"Remove one card from the deck\"\n",
    "    return self.cards.pop(idx)"
   ]
  },
  {
   "cell_type": "code",
   "execution_count": null,
   "id": "5632ec1d-b507-4bf3-8a38-5b5bd7525f0c",
   "metadata": {},
   "outputs": [],
   "source": [
    "deck = Deck()\n",
    "test_eq(deck.pop(), Card(3,13)) # K💛 "
   ]
  },
  {
   "cell_type": "code",
   "execution_count": null,
   "id": "e779cadb-f39f-4397-9aed-ca22e291d741",
   "metadata": {},
   "outputs": [],
   "source": [
    "#| export\n",
    "@patch\n",
    "def remove(self:Deck, \n",
    "        card:Card): # The index of the card to remove, defaulting to the last one\n",
    "    \"Removes `card` from the deck or raises exception if it is not there\"\n",
    "    return self.cards.remove(card)"
   ]
  },
  {
   "cell_type": "code",
   "execution_count": null,
   "id": "d2ede722-8908-4a4e-8f4b-b88c71bdd595",
   "metadata": {},
   "outputs": [],
   "source": [
    "card23 = Card(2,3)\n",
    "deck.remove(card23)\n",
    "\n",
    "assert card23 not in deck"
   ]
  },
  {
   "cell_type": "code",
   "execution_count": null,
   "id": "e5d653ef-0c71-4226-9607-111c88543d88",
   "metadata": {},
   "outputs": [
    {
     "data": {
      "text/markdown": [
       "---\n",
       "\n",
       "### Deck.shuffle\n",
       "\n",
       ">      Deck.shuffle ()\n",
       "\n",
       "Shuffles the cards in this deck"
      ],
      "text/plain": [
       "---\n",
       "\n",
       "### Deck.shuffle\n",
       "\n",
       ">      Deck.shuffle ()\n",
       "\n",
       "Shuffles the cards in this deck"
      ]
     },
     "execution_count": null,
     "metadata": {},
     "output_type": "execute_result"
    }
   ],
   "source": [
    "show_doc(Deck.shuffle)"
   ]
  },
  {
   "cell_type": "code",
   "execution_count": null,
   "id": "e8c1d1ee-bf61-4003-b0c9-4d7b973e883f",
   "metadata": {},
   "outputs": [],
   "source": [
    "#| export\n",
    "def draw_n(n:int, # number of cards to draw\n",
    "           replace: bool=True): # whether or not draw with replacement\n",
    "    \"Draw `n` cards, with replacement iif `replace`\"\n",
    "    d = Deck()\n",
    "    d.shuffle()\n",
    "    if replace: return [d.cards[random.choice(range(len(d.cards)))] for _ in range(n)]\n",
    "    else: return d.cards[:n]"
   ]
  },
  {
   "cell_type": "code",
   "execution_count": null,
   "id": "2b43009c-5194-4fc6-8127-a0960c90ef42",
   "metadata": {},
   "outputs": [
    {
     "data": {
      "text/plain": [
       "[Q🃏, 10♣️, J🃏, 8🃏, K♣️, 9🃏, 3💛, 6♣️, 8♣️, J♣️, 5💛, 5💎, Q💎]"
      ]
     },
     "execution_count": null,
     "metadata": {},
     "output_type": "execute_result"
    }
   ],
   "source": [
    "draw_n(13, replace=False)"
   ]
  },
  {
   "cell_type": "code",
   "execution_count": null,
   "id": "5a4ac546-3d48-4c57-8453-5e2c5a66057f",
   "metadata": {},
   "outputs": [],
   "source": []
  }
 ],
 "metadata": {
  "kernelspec": {
   "display_name": "conda-env-nbdev-py3.10-py",
   "language": "python",
   "name": "conda-env-nbdev-py3.10-py"
  }
 },
 "nbformat": 4,
 "nbformat_minor": 5
}
